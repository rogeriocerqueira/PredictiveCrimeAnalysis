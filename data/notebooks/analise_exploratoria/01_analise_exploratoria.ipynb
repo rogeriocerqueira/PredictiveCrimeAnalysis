{
 "cells": [
  {
   "cell_type": "markdown",
   "id": "86f6576c",
   "metadata": {},
   "source": [
    "# Análise Exploratória dos Dados de Homicídios"
   ]
  },
  {
   "cell_type": "markdown",
   "id": "5dcf0b60",
   "metadata": {},
   "source": [
    "\n",
    "Neste notebook, realizaremos uma análise exploratória dos dados de homicídios nos municípios brasileiros. \n",
    "Os passos incluem:\n",
    "\n",
    "1. Carregar os dados tratados.\n",
    "2. Analisar estatísticas descritivas.\n",
    "3. Visualizar distribuições e tendências.\n",
    "        "
   ]
  },
  {
   "cell_type": "code",
   "execution_count": null,
   "id": "80000cd1",
   "metadata": {},
   "outputs": [],
   "source": [
    "\n",
    "# Importando bibliotecas necessárias\n",
    "import pandas as pd\n",
    "import matplotlib.pyplot as plt\n",
    "import seaborn as sns\n",
    "\n",
    "# Configurando estilo de gráficos\n",
    "sns.set(style=\"whitegrid\")\n",
    "\n",
    "# Carregando os dados tratados\n",
    "file_path = '../data/processed/homicidios_cleaned.csv'\n",
    "df = pd.read_csv(file_path)\n",
    "\n",
    "# Exibindo as primeiras linhas do dataset\n",
    "df.head()\n",
    "        "
   ]
  },
  {
   "cell_type": "markdown",
   "id": "4cfddcd1",
   "metadata": {},
   "source": [
    "## Estatísticas Descritivas"
   ]
  },
  {
   "cell_type": "code",
   "execution_count": null,
   "id": "cd021a4a",
   "metadata": {},
   "outputs": [],
   "source": [
    "\n",
    "# Estatísticas descritivas das colunas numéricas\n",
    "df.describe()\n",
    "        "
   ]
  },
  {
   "cell_type": "markdown",
   "id": "01cc6e64",
   "metadata": {},
   "source": [
    "## Distribuição da Taxa de Homicídios"
   ]
  },
  {
   "cell_type": "code",
   "execution_count": null,
   "id": "3f83a4a4",
   "metadata": {},
   "outputs": [],
   "source": [
    "\n",
    "# Histograma da taxa de homicídios por 100 mil habitantes\n",
    "plt.figure(figsize=(10, 6))\n",
    "sns.histplot(df['taxa_homicidios_100k'], kde=True, bins=15, color='blue')\n",
    "plt.title(\"Distribuição da Taxa de Homicídios Estimados por 100 mil Habitantes\")\n",
    "plt.xlabel(\"Taxa de Homicídios\")\n",
    "plt.ylabel(\"Frequência\")\n",
    "plt.show()\n",
    "        "
   ]
  },
  {
   "cell_type": "markdown",
   "id": "b66c1dcb",
   "metadata": {},
   "source": [
    "## Correlação entre População e Taxa de Homicídios"
   ]
  },
  {
   "cell_type": "code",
   "execution_count": null,
   "id": "f3bd0401",
   "metadata": {},
   "outputs": [],
   "source": [
    "\n",
    "# Gráfico de dispersão entre população e taxa de homicídios\n",
    "plt.figure(figsize=(10, 6))\n",
    "sns.scatterplot(x='populacao', y='taxa_homicidios_100k', data=df, color='green')\n",
    "plt.title(\"População vs. Taxa de Homicídios Estimados\")\n",
    "plt.xlabel(\"População\")\n",
    "plt.ylabel(\"Taxa de Homicídios\")\n",
    "plt.show()\n",
    "        "
   ]
  },
  {
   "cell_type": "markdown",
   "id": "7f50bac7",
   "metadata": {},
   "source": [
    "## Conclusões"
   ]
  },
  {
   "cell_type": "markdown",
   "id": "9255e316",
   "metadata": {},
   "source": [
    "\n",
    "Nesta análise exploratória, identificamos as distribuições e relações importantes dos dados:\n",
    "\n",
    "- A maior parte das taxas de homicídios está concentrada em um intervalo específico.\n",
    "- Há uma correlação muito fraca entre população e taxa de homicídios.\n",
    "\n",
    "Nos próximos passos, analisaremos os quartis e realizaremos uma regressão linear para explorar mais insights.\n",
    "        "
   ]
  }
 ],
 "metadata": {},
 "nbformat": 4,
 "nbformat_minor": 5
}
